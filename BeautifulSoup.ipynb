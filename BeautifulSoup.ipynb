{
  "nbformat": 4,
  "nbformat_minor": 0,
  "metadata": {
    "colab": {
      "provenance": [],
      "authorship_tag": "ABX9TyPfI+asmsX14UyadAIQIQTa",
      "include_colab_link": true
    },
    "kernelspec": {
      "name": "python3",
      "display_name": "Python 3"
    },
    "language_info": {
      "name": "python"
    }
  },
  "cells": [
    {
      "cell_type": "markdown",
      "metadata": {
        "id": "view-in-github",
        "colab_type": "text"
      },
      "source": [
        "<a href=\"https://colab.research.google.com/github/MasterSoham007/Filtering-Jobs-Using-Web-Scrapping/blob/main/BeautifulSoup.ipynb\" target=\"_parent\"><img src=\"https://colab.research.google.com/assets/colab-badge.svg\" alt=\"Open In Colab\"/></a>"
      ]
    },
    {
      "cell_type": "markdown",
      "source": [
        "**Fitering Out Jobs from timesjobs.com website based on skills you are not familiar with**"
      ],
      "metadata": {
        "id": "RPqfItZAH0WZ"
      }
    },
    {
      "cell_type": "code",
      "execution_count": null,
      "metadata": {
        "id": "wluWDvY1JK84",
        "colab": {
          "base_uri": "https://localhost:8080/"
        },
        "outputId": "474e16d0-e792-4eb5-b47c-4c040af837b0"
      },
      "outputs": [
        {
          "output_type": "stream",
          "name": "stdout",
          "text": [
            "Put some skills you are not familiar with (comma-separated)\n",
            ">django,angularjs\n",
            "Filtering out ['django', 'angularjs']\n",
            "\n",
            "Company Name: TECHNOPARK TRIVANDRUM\n",
            "Required Skills: rest,python,devops,shellscripting\n",
            "More Information: https://www.timesjobs.com/job-detail/python-developer-technopark-trivandrum-thiruvananthapuram-2-to-5-yrs-jobid-TrTLPICKMD9zpSvf__PLUS__uAgZw==&source=srp\n",
            "\n",
            "Company Name: TECHNOPARK TRIVANDRUM\n",
            "Required Skills: rest,python,devops,shellscripting\n",
            "More Information: https://www.timesjobs.com/job-detail/python-developer-technopark-trivandrum-thiruvananthapuram-0-to-3-yrs-jobid-DUzDVEKmSOtzpSvf__PLUS__uAgZw==&source=srp\n",
            "\n",
            "Company Name: Ivan Infotech Pvt. Ltd.\n",
            "Required Skills: rest,python,security,debugging\n",
            "More Information: https://www.timesjobs.com/job-detail/python-developer-ivan-infotech-pvt-ltd-kolkata-2-to-5-yrs-jobid-1h6sLaqbaBZzpSvf__PLUS__uAgZw==&source=srp\n",
            "\n",
            "Company Name: east india securities ltd.\n",
            "Required Skills: python,hadoop,machinelearning\n",
            "More Information: https://www.timesjobs.com/job-detail/python-engineer-east-india-securities-ltd-kolkata-2-to-5-yrs-jobid-KEkE19WqPbFzpSvf__PLUS__uAgZw==&source=srp\n",
            "\n",
            "Waiting 10 minutes.......\n"
          ]
        }
      ],
      "source": [
        "from bs4 import BeautifulSoup\n",
        "import requests\n",
        "import time\n",
        "\n",
        "print('Put some skills you are not familiar with (comma-separated)')\n",
        "unfamiliar_skills = input('>').split(',')\n",
        "print(f'Filtering out {unfamiliar_skills}')\n",
        "print('')\n",
        "\n",
        "def find_jobs():\n",
        "    html_text = requests.get('https://www.timesjobs.com/candidate/job-search.html?searchType=personalizedSearch&from=submit&txtKeywords=python&txtLocation=').text\n",
        "    soup = BeautifulSoup(html_text,'lxml')\n",
        "    jobs = soup.find_all('li', class_='clearfix job-bx wht-shd-bx')\n",
        "\n",
        "    for job in jobs:\n",
        "        published_date = job.find('span', class_='sim-posted').span.text\n",
        "\n",
        "        if 'few' in published_date:\n",
        "            company_name = job.find('h3', class_='joblist-comp-name').text.strip()\n",
        "            skills = job.find('span', class_='srp-skills').text.replace(\" \", \"\").strip()\n",
        "            more_info = job.header.h2.a['href']\n",
        "\n",
        "            job_skills = skills.split(',')\n",
        "\n",
        "            if not any(skill in job_skills for skill in unfamiliar_skills):\n",
        "              print(f'Company Name: {company_name}')\n",
        "              print(f'Required Skills: {skills}')\n",
        "              print(f'More Information: {more_info}')\n",
        "              print('')\n",
        "\n",
        "\n",
        "if __name__ == '__main__':\n",
        "    while True:\n",
        "        find_jobs()\n",
        "        time_wait = 10\n",
        "        print(f'Waiting {time_wait} minutes.......')\n",
        "        time.sleep(time_wait * 60)\n"
      ]
    }
  ]
}